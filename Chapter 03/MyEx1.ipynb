{
 "cells": [
  {
   "cell_type": "code",
   "execution_count": 18,
   "metadata": {
    "collapsed": true
   },
   "outputs": [],
   "source": [
    "import pandas as pd\n",
    "import numpy as np\n",
    "import matplotlib.pyplot as plt\n",
    "%matplotlib inline"
   ]
  },
  {
   "cell_type": "markdown",
   "metadata": {},
   "source": [
    "csv中保存的是某网站的每日pv，本节筛出异常点，需要考虑有周期性的波动"
   ]
  },
  {
   "cell_type": "code",
   "execution_count": 19,
   "metadata": {
    "scrolled": true
   },
   "outputs": [
    {
     "data": {
      "text/html": [
       "<div>\n",
       "<style>\n",
       "    .dataframe thead tr:only-child th {\n",
       "        text-align: right;\n",
       "    }\n",
       "\n",
       "    .dataframe thead th {\n",
       "        text-align: left;\n",
       "    }\n",
       "\n",
       "    .dataframe tbody tr th {\n",
       "        vertical-align: top;\n",
       "    }\n",
       "</style>\n",
       "<table border=\"1\" class=\"dataframe\">\n",
       "  <thead>\n",
       "    <tr style=\"text-align: right;\">\n",
       "      <th></th>\n",
       "      <th>日期</th>\n",
       "      <th>pv</th>\n",
       "    </tr>\n",
       "  </thead>\n",
       "  <tbody>\n",
       "    <tr>\n",
       "      <th>0</th>\n",
       "      <td>2017/12/31</td>\n",
       "      <td>874185</td>\n",
       "    </tr>\n",
       "    <tr>\n",
       "      <th>1</th>\n",
       "      <td>2017/12/30</td>\n",
       "      <td>1062207</td>\n",
       "    </tr>\n",
       "    <tr>\n",
       "      <th>2</th>\n",
       "      <td>2017/12/29</td>\n",
       "      <td>1090762</td>\n",
       "    </tr>\n",
       "    <tr>\n",
       "      <th>3</th>\n",
       "      <td>2017/12/28</td>\n",
       "      <td>1093813</td>\n",
       "    </tr>\n",
       "    <tr>\n",
       "      <th>4</th>\n",
       "      <td>2017/12/27</td>\n",
       "      <td>1089604</td>\n",
       "    </tr>\n",
       "    <tr>\n",
       "      <th>5</th>\n",
       "      <td>2017/12/26</td>\n",
       "      <td>1073583</td>\n",
       "    </tr>\n",
       "    <tr>\n",
       "      <th>6</th>\n",
       "      <td>2017/12/25</td>\n",
       "      <td>896523</td>\n",
       "    </tr>\n",
       "    <tr>\n",
       "      <th>7</th>\n",
       "      <td>2017/12/24</td>\n",
       "      <td>918468</td>\n",
       "    </tr>\n",
       "    <tr>\n",
       "      <th>8</th>\n",
       "      <td>2017/12/23</td>\n",
       "      <td>1079017</td>\n",
       "    </tr>\n",
       "    <tr>\n",
       "      <th>9</th>\n",
       "      <td>2017/12/22</td>\n",
       "      <td>1107021</td>\n",
       "    </tr>\n",
       "    <tr>\n",
       "      <th>10</th>\n",
       "      <td>2017/12/21</td>\n",
       "      <td>1113006</td>\n",
       "    </tr>\n",
       "    <tr>\n",
       "      <th>11</th>\n",
       "      <td>2017/12/20</td>\n",
       "      <td>1119031</td>\n",
       "    </tr>\n",
       "    <tr>\n",
       "      <th>12</th>\n",
       "      <td>2017/12/19</td>\n",
       "      <td>1121223</td>\n",
       "    </tr>\n",
       "    <tr>\n",
       "      <th>13</th>\n",
       "      <td>2017/12/18</td>\n",
       "      <td>939648</td>\n",
       "    </tr>\n",
       "    <tr>\n",
       "      <th>14</th>\n",
       "      <td>2017/12/17</td>\n",
       "      <td>949225</td>\n",
       "    </tr>\n",
       "    <tr>\n",
       "      <th>15</th>\n",
       "      <td>2017/12/16</td>\n",
       "      <td>1107323</td>\n",
       "    </tr>\n",
       "    <tr>\n",
       "      <th>16</th>\n",
       "      <td>2017/12/15</td>\n",
       "      <td>1130642</td>\n",
       "    </tr>\n",
       "    <tr>\n",
       "      <th>17</th>\n",
       "      <td>2017/12/14</td>\n",
       "      <td>1133580</td>\n",
       "    </tr>\n",
       "    <tr>\n",
       "      <th>18</th>\n",
       "      <td>2017/12/13</td>\n",
       "      <td>1135299</td>\n",
       "    </tr>\n",
       "    <tr>\n",
       "      <th>19</th>\n",
       "      <td>2017/12/12</td>\n",
       "      <td>1137646</td>\n",
       "    </tr>\n",
       "    <tr>\n",
       "      <th>20</th>\n",
       "      <td>2017/12/11</td>\n",
       "      <td>949995</td>\n",
       "    </tr>\n",
       "    <tr>\n",
       "      <th>21</th>\n",
       "      <td>2017/12/10</td>\n",
       "      <td>949588</td>\n",
       "    </tr>\n",
       "    <tr>\n",
       "      <th>22</th>\n",
       "      <td>2017/12/9</td>\n",
       "      <td>1102891</td>\n",
       "    </tr>\n",
       "    <tr>\n",
       "      <th>23</th>\n",
       "      <td>2017/12/8</td>\n",
       "      <td>1122456</td>\n",
       "    </tr>\n",
       "    <tr>\n",
       "      <th>24</th>\n",
       "      <td>2017/12/7</td>\n",
       "      <td>1122340</td>\n",
       "    </tr>\n",
       "    <tr>\n",
       "      <th>25</th>\n",
       "      <td>2017/12/6</td>\n",
       "      <td>1124863</td>\n",
       "    </tr>\n",
       "    <tr>\n",
       "      <th>26</th>\n",
       "      <td>2017/12/5</td>\n",
       "      <td>1128155</td>\n",
       "    </tr>\n",
       "    <tr>\n",
       "      <th>27</th>\n",
       "      <td>2017/12/4</td>\n",
       "      <td>938988</td>\n",
       "    </tr>\n",
       "    <tr>\n",
       "      <th>28</th>\n",
       "      <td>2017/12/3</td>\n",
       "      <td>937616</td>\n",
       "    </tr>\n",
       "    <tr>\n",
       "      <th>29</th>\n",
       "      <td>2017/12/2</td>\n",
       "      <td>1091473</td>\n",
       "    </tr>\n",
       "    <tr>\n",
       "      <th>...</th>\n",
       "      <td>...</td>\n",
       "      <td>...</td>\n",
       "    </tr>\n",
       "    <tr>\n",
       "      <th>62</th>\n",
       "      <td>2017/10/30</td>\n",
       "      <td>940703</td>\n",
       "    </tr>\n",
       "    <tr>\n",
       "      <th>63</th>\n",
       "      <td>2017/10/29</td>\n",
       "      <td>939618</td>\n",
       "    </tr>\n",
       "    <tr>\n",
       "      <th>64</th>\n",
       "      <td>2017/10/28</td>\n",
       "      <td>1095791</td>\n",
       "    </tr>\n",
       "    <tr>\n",
       "      <th>65</th>\n",
       "      <td>2017/10/27</td>\n",
       "      <td>1110775</td>\n",
       "    </tr>\n",
       "    <tr>\n",
       "      <th>66</th>\n",
       "      <td>2017/10/26</td>\n",
       "      <td>1119952</td>\n",
       "    </tr>\n",
       "    <tr>\n",
       "      <th>67</th>\n",
       "      <td>2017/10/25</td>\n",
       "      <td>1119298</td>\n",
       "    </tr>\n",
       "    <tr>\n",
       "      <th>68</th>\n",
       "      <td>2017/10/24</td>\n",
       "      <td>1118452</td>\n",
       "    </tr>\n",
       "    <tr>\n",
       "      <th>69</th>\n",
       "      <td>2017/10/23</td>\n",
       "      <td>933262</td>\n",
       "    </tr>\n",
       "    <tr>\n",
       "      <th>70</th>\n",
       "      <td>2017/10/22</td>\n",
       "      <td>934482</td>\n",
       "    </tr>\n",
       "    <tr>\n",
       "      <th>71</th>\n",
       "      <td>2017/10/21</td>\n",
       "      <td>1087049</td>\n",
       "    </tr>\n",
       "    <tr>\n",
       "      <th>72</th>\n",
       "      <td>2017/10/20</td>\n",
       "      <td>1106561</td>\n",
       "    </tr>\n",
       "    <tr>\n",
       "      <th>73</th>\n",
       "      <td>2017/10/19</td>\n",
       "      <td>1110547</td>\n",
       "    </tr>\n",
       "    <tr>\n",
       "      <th>74</th>\n",
       "      <td>2017/10/18</td>\n",
       "      <td>1112821</td>\n",
       "    </tr>\n",
       "    <tr>\n",
       "      <th>75</th>\n",
       "      <td>2017/10/17</td>\n",
       "      <td>1114137</td>\n",
       "    </tr>\n",
       "    <tr>\n",
       "      <th>76</th>\n",
       "      <td>2017/10/16</td>\n",
       "      <td>943018</td>\n",
       "    </tr>\n",
       "    <tr>\n",
       "      <th>77</th>\n",
       "      <td>2017/10/15</td>\n",
       "      <td>938882</td>\n",
       "    </tr>\n",
       "    <tr>\n",
       "      <th>78</th>\n",
       "      <td>2017/10/14</td>\n",
       "      <td>1078308</td>\n",
       "    </tr>\n",
       "    <tr>\n",
       "      <th>79</th>\n",
       "      <td>2017/10/13</td>\n",
       "      <td>1094933</td>\n",
       "    </tr>\n",
       "    <tr>\n",
       "      <th>80</th>\n",
       "      <td>2017/10/12</td>\n",
       "      <td>1096966</td>\n",
       "    </tr>\n",
       "    <tr>\n",
       "      <th>81</th>\n",
       "      <td>2017/10/11</td>\n",
       "      <td>1089454</td>\n",
       "    </tr>\n",
       "    <tr>\n",
       "      <th>82</th>\n",
       "      <td>2017/10/10</td>\n",
       "      <td>1068111</td>\n",
       "    </tr>\n",
       "    <tr>\n",
       "      <th>83</th>\n",
       "      <td>2017/10/9</td>\n",
       "      <td>867963</td>\n",
       "    </tr>\n",
       "    <tr>\n",
       "      <th>84</th>\n",
       "      <td>2017/10/8</td>\n",
       "      <td>790415</td>\n",
       "    </tr>\n",
       "    <tr>\n",
       "      <th>85</th>\n",
       "      <td>2017/10/7</td>\n",
       "      <td>757076</td>\n",
       "    </tr>\n",
       "    <tr>\n",
       "      <th>86</th>\n",
       "      <td>2017/10/6</td>\n",
       "      <td>726515</td>\n",
       "    </tr>\n",
       "    <tr>\n",
       "      <th>87</th>\n",
       "      <td>2017/10/5</td>\n",
       "      <td>708506</td>\n",
       "    </tr>\n",
       "    <tr>\n",
       "      <th>88</th>\n",
       "      <td>2017/10/4</td>\n",
       "      <td>728104</td>\n",
       "    </tr>\n",
       "    <tr>\n",
       "      <th>89</th>\n",
       "      <td>2017/10/3</td>\n",
       "      <td>744254</td>\n",
       "    </tr>\n",
       "    <tr>\n",
       "      <th>90</th>\n",
       "      <td>2017/10/2</td>\n",
       "      <td>775476</td>\n",
       "    </tr>\n",
       "    <tr>\n",
       "      <th>91</th>\n",
       "      <td>2017/10/1</td>\n",
       "      <td>977254</td>\n",
       "    </tr>\n",
       "  </tbody>\n",
       "</table>\n",
       "<p>92 rows × 2 columns</p>\n",
       "</div>"
      ],
      "text/plain": [
       "            日期       pv\n",
       "0   2017/12/31   874185\n",
       "1   2017/12/30  1062207\n",
       "2   2017/12/29  1090762\n",
       "3   2017/12/28  1093813\n",
       "4   2017/12/27  1089604\n",
       "5   2017/12/26  1073583\n",
       "6   2017/12/25   896523\n",
       "7   2017/12/24   918468\n",
       "8   2017/12/23  1079017\n",
       "9   2017/12/22  1107021\n",
       "10  2017/12/21  1113006\n",
       "11  2017/12/20  1119031\n",
       "12  2017/12/19  1121223\n",
       "13  2017/12/18   939648\n",
       "14  2017/12/17   949225\n",
       "15  2017/12/16  1107323\n",
       "16  2017/12/15  1130642\n",
       "17  2017/12/14  1133580\n",
       "18  2017/12/13  1135299\n",
       "19  2017/12/12  1137646\n",
       "20  2017/12/11   949995\n",
       "21  2017/12/10   949588\n",
       "22   2017/12/9  1102891\n",
       "23   2017/12/8  1122456\n",
       "24   2017/12/7  1122340\n",
       "25   2017/12/6  1124863\n",
       "26   2017/12/5  1128155\n",
       "27   2017/12/4   938988\n",
       "28   2017/12/3   937616\n",
       "29   2017/12/2  1091473\n",
       "..         ...      ...\n",
       "62  2017/10/30   940703\n",
       "63  2017/10/29   939618\n",
       "64  2017/10/28  1095791\n",
       "65  2017/10/27  1110775\n",
       "66  2017/10/26  1119952\n",
       "67  2017/10/25  1119298\n",
       "68  2017/10/24  1118452\n",
       "69  2017/10/23   933262\n",
       "70  2017/10/22   934482\n",
       "71  2017/10/21  1087049\n",
       "72  2017/10/20  1106561\n",
       "73  2017/10/19  1110547\n",
       "74  2017/10/18  1112821\n",
       "75  2017/10/17  1114137\n",
       "76  2017/10/16   943018\n",
       "77  2017/10/15   938882\n",
       "78  2017/10/14  1078308\n",
       "79  2017/10/13  1094933\n",
       "80  2017/10/12  1096966\n",
       "81  2017/10/11  1089454\n",
       "82  2017/10/10  1068111\n",
       "83   2017/10/9   867963\n",
       "84   2017/10/8   790415\n",
       "85   2017/10/7   757076\n",
       "86   2017/10/6   726515\n",
       "87   2017/10/5   708506\n",
       "88   2017/10/4   728104\n",
       "89   2017/10/3   744254\n",
       "90   2017/10/2   775476\n",
       "91   2017/10/1   977254\n",
       "\n",
       "[92 rows x 2 columns]"
      ]
     },
     "execution_count": 19,
     "metadata": {},
     "output_type": "execute_result"
    }
   ],
   "source": [
    "csv_path = '../PrivateDatasets/sample#3.csv'\n",
    "df = pd.read_csv(csv_path)\n",
    "df"
   ]
  },
  {
   "cell_type": "code",
   "execution_count": 20,
   "metadata": {
    "scrolled": false
   },
   "outputs": [
    {
     "data": {
      "image/png": "[encoded data removed]",
      "text/plain": [
       "<matplotlib.figure.Figure at 0x116b00240>"
      ]
     },
     "metadata": {},
     "output_type": "display_data"
    }
   ],
   "source": [
    "fig,ax = plt.subplots(figsize=(20,5))\n",
    "plt.scatter(np.arange(len(df['pv'])),df['pv']);"
   ]
  },
  {
   "cell_type": "code",
   "execution_count": 21,
   "metadata": {
    "collapsed": true
   },
   "outputs": [],
   "source": [
    "from sklearn.cluster import DBSCAN\n",
    "from sklearn.preprocessing import StandardScaler"
   ]
  },
  {
   "cell_type": "code",
   "execution_count": 22,
   "metadata": {},
   "outputs": [],
   "source": [
    "px = [int(x) for x in df['pv']]\n",
    "ff = pd.DataFrame(px, columns=['pv']).reset_index()"
   ]
  },
  {
   "cell_type": "code",
   "execution_count": 23,
   "metadata": {
    "scrolled": false
   },
   "outputs": [
    {
     "data": {
      "text/plain": [
       "Text(0.5,1.01,'Total Clusters: 5')"
      ]
     },
     "execution_count": 23,
     "metadata": {},
     "output_type": "execute_result"
    },
    {
     "data": {
      "image/png": "[encoded data removed]",
      "text/plain": [
       "<matplotlib.figure.Figure at 0x116c3d390>"
      ]
     },
     "metadata": {},
     "output_type": "display_data"
    }
   ],
   "source": [
    "X = StandardScaler().fit_transform(ff)\n",
    "db = DBSCAN(eps=.5, min_samples=1).fit(X)\n",
    "\n",
    "labels = db.labels_\n",
    "clusters = len(set(labels))\n",
    "unique_labels = set(labels)\n",
    "colors = plt.cm.Spectral(np.linspace(0,\n",
    "                        1, len(unique_labels)))\n",
    "\n",
    "plt.subplots(figsize=(12,8))\n",
    "\n",
    "for k, c in zip(unique_labels, colors):\n",
    "    class_member_mask = (labels == k)\n",
    "    xy = X[class_member_mask]\n",
    "    plt.plot(xy[:, 0], xy[:, 1], 'o',\n",
    "             markerfacecolor=c,\n",
    "             markeredgecolor='k',\n",
    "             markersize=14)\n",
    "\n",
    "plt.title(\"Total Clusters: {}\".format(clusters),\n",
    "          fontsize=14, y=1.01)"
   ]
  },
  {
   "cell_type": "code",
   "execution_count": null,
   "metadata": {
    "collapsed": true
   },
   "outputs": [],
   "source": [
    "def test_clusters(data_series, eps_val, swap_index, swap_value):\n",
    "    data_series[swap_index] = swap_value\n",
    "    ff = pd.DataFrame(data_series, columns=['fare']).reset_index()\n",
    "    X = StandardScaler().fit_transform(ff)\n",
    "    db = DBSCAN(eps=eps_val, min_samples=1).fit(X)\n",
    "\n",
    "    labels = db.labels_\n",
    "    clusters = len(set(labels))\n",
    "    unique_labels = set(labels)\n",
    "    colors = plt.cm.Spectral(np.linspace(0,\n",
    "                            1, len(unique_labels)))\n",
    "\n",
    "    plt.subplots(figsize=(12,8))\n",
    "\n",
    "    for k, c in zip(unique_labels, colors):\n",
    "        class_member_mask = (labels == k)\n",
    "        xy = X[class_member_mask]\n",
    "        plt.plot(xy[:, 0], xy[:, 1], 'o',\n",
    "                 markerfacecolor=c,\n",
    "                 markeredgecolor='k',\n",
    "                 markersize=14)\n",
    "\n",
    "    plt.title(\"Total Clusters: {}\".format(clusters),\n",
    "              fontsize=14, y=1.01)"
   ]
  },
  {
   "cell_type": "code",
   "execution_count": null,
   "metadata": {
    "collapsed": true
   },
   "outputs": [],
   "source": [
    "px = [x for x in fares['price']]"
   ]
  },
  {
   "cell_type": "code",
   "execution_count": null,
   "metadata": {
    "collapsed": true
   },
   "outputs": [],
   "source": [
    "px[55]"
   ]
  },
  {
   "cell_type": "code",
   "execution_count": null,
   "metadata": {
    "collapsed": true
   },
   "outputs": [],
   "source": [
    "test_clusters(px, 1.5, 55, 700)"
   ]
  },
  {
   "cell_type": "code",
   "execution_count": null,
   "metadata": {
    "collapsed": true
   },
   "outputs": [],
   "source": [
    "px[55]"
   ]
  },
  {
   "cell_type": "code",
   "execution_count": null,
   "metadata": {
    "collapsed": true
   },
   "outputs": [],
   "source": [
    "px[55] = 625"
   ]
  },
  {
   "cell_type": "code",
   "execution_count": null,
   "metadata": {
    "collapsed": true
   },
   "outputs": [],
   "source": [
    "ff = pd.DataFrame(px, columns=['fare']).reset_index()"
   ]
  },
  {
   "cell_type": "code",
   "execution_count": null,
   "metadata": {
    "collapsed": true
   },
   "outputs": [],
   "source": [
    "X = StandardScaler().fit_transform(ff)\n",
    "db = DBSCAN(eps=1.5, min_samples=1).fit(X)\n",
    "\n",
    "labels = db.labels_\n",
    "clusters = len(set(labels))\n",
    "unique_labels = set(labels)\n",
    "colors = plt.cm.Spectral(np.linspace(0,\n",
    "                        1, len(unique_labels)))\n",
    "\n",
    "plt.subplots(figsize=(12,8))\n",
    "\n",
    "for k, c in zip(unique_labels, colors):\n",
    "    class_member_mask = (labels == k)\n",
    "    xy = X[class_member_mask]\n",
    "    plt.plot(xy[:, 0], xy[:, 1], 'o',\n",
    "             markerfacecolor=c,\n",
    "             markeredgecolor='k',\n",
    "             markersize=14)\n",
    "\n",
    "plt.title(\"Total Clusters: {}\".format(clusters),\n",
    "          fontsize=14, y=1.01)"
   ]
  },
  {
   "cell_type": "code",
   "execution_count": null,
   "metadata": {
    "collapsed": true,
    "scrolled": true
   },
   "outputs": [],
   "source": [
    "pf = pd.concat([ff,pd.DataFrame(db.labels_,\n",
    "                                columns=['cluster'])], axis=1)\n",
    "pf"
   ]
  },
  {
   "cell_type": "code",
   "execution_count": null,
   "metadata": {
    "collapsed": true
   },
   "outputs": [],
   "source": [
    "rf = pf.groupby('cluster')['fare'].agg(['min','count']).sort_values('min', ascending=True)\n",
    "rf"
   ]
  },
  {
   "cell_type": "code",
   "execution_count": null,
   "metadata": {
    "collapsed": true
   },
   "outputs": [],
   "source": [
    "rf.iloc[0]['min']"
   ]
  },
  {
   "cell_type": "code",
   "execution_count": null,
   "metadata": {
    "collapsed": true
   },
   "outputs": [],
   "source": [
    "pf['fare'].min()"
   ]
  },
  {
   "cell_type": "code",
   "execution_count": null,
   "metadata": {
    "collapsed": true
   },
   "outputs": [],
   "source": [
    "rf.describe([.10,.25,.5,.75,.9])"
   ]
  },
  {
   "cell_type": "code",
   "execution_count": null,
   "metadata": {
    "collapsed": true
   },
   "outputs": [],
   "source": [
    "# we want min of the price cluster to equal the overall min \n",
    "# as well as to be in the bottom quartile of sizes"
   ]
  },
  {
   "cell_type": "code",
   "execution_count": null,
   "metadata": {
    "collapsed": true
   },
   "outputs": [],
   "source": [
    "rf['count'].quantile(.10)"
   ]
  },
  {
   "cell_type": "code",
   "execution_count": null,
   "metadata": {
    "collapsed": true
   },
   "outputs": [],
   "source": [
    "pd.Series([50,6,4]).quantile(.10)"
   ]
  },
  {
   "cell_type": "code",
   "execution_count": null,
   "metadata": {
    "collapsed": true
   },
   "outputs": [],
   "source": []
  },
  {
   "cell_type": "code",
   "execution_count": null,
   "metadata": {
    "collapsed": true
   },
   "outputs": [],
   "source": []
  }
 ],
 "metadata": {
  "kernelspec": {
   "display_name": "Python 3",
   "language": "python",
   "name": "python3"
  },
  "language_info": {
   "codemirror_mode": {
    "name": "ipython",
    "version": 3
   },
   "file_extension": ".py",
   "mimetype": "text/x-python",
   "name": "python",
   "nbconvert_exporter": "python",
   "pygments_lexer": "ipython3",
   "version": "3.6.3"
  }
 },
 "nbformat": 4,
 "nbformat_minor": 1
}
